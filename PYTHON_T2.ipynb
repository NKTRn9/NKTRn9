{
 "cells": [
  {
   "cell_type": "code",
   "execution_count": 8,
   "metadata": {},
   "outputs": [
    {
     "name": "stdout",
     "output_type": "stream",
     "text": [
      "o\n",
      "c\n"
     ]
    }
   ],
   "source": [
    "x=\"welcome\"\n",
    "print(x[4])\n",
    "print(x[-4])"
   ]
  },
  {
   "cell_type": "code",
   "execution_count": 12,
   "metadata": {},
   "outputs": [
    {
     "name": "stdout",
     "output_type": "stream",
     "text": [
      "ec\n"
     ]
    }
   ],
   "source": [
    "s=\"welcome\" # s[begin:end:step] jya step jovu\n",
    "print(s[1:4:2])"
   ]
  },
  {
   "cell_type": "code",
   "execution_count": 18,
   "metadata": {},
   "outputs": [
    {
     "name": "stdout",
     "output_type": "stream",
     "text": [
      "earnin\n",
      "arn\n",
      "ysae yrev si nohtyp \n",
      "eri\n",
      "earning python is very easy\n",
      "learni\n"
     ]
    }
   ],
   "source": [
    "s=\"learning python is very easy\"\n",
    "print(s[1:7:1])\n",
    "print(s[2:5])\n",
    "print(s[-1:7:-1])\n",
    "print(s[1:7:2])\n",
    "print(s[1:])\n",
    "print(s[:6])\n"
   ]
  },
  {
   "cell_type": "code",
   "execution_count": 39,
   "metadata": {},
   "outputs": [
    {
     "name": "stdout",
     "output_type": "stream",
     "text": [
      "learning python is very easy\n",
      "learning python is very easy\n",
      "ysae yrev si nohtyp gninrael\n",
      "python\n",
      "python\n",
      "python\n",
      "python\n",
      "gninr\n",
      "gninr\n",
      "gninr\n"
     ]
    }
   ],
   "source": [
    "s=\"learning python is very easy\"\n",
    "print(s[::])\n",
    "print(s[:])\n",
    "print(s[::-1])   # right to left print thse je palindrome na programme mate easy che\n",
    "print(s[9:15])\n",
    "print(s[-19:-13])\n",
    "print(s[9:-13])\n",
    "print(s[-19:15])\n",
    "print(s[7:-26:-1])\n",
    "print(s[-21:-26:-1])\n",
    "print(s[7:2:-1])"
   ]
  },
  {
   "cell_type": "code",
   "execution_count": 41,
   "metadata": {},
   "outputs": [
    {
     "name": "stdout",
     "output_type": "stream",
     "text": [
      "helloabc\n",
      "hellohellohello\n"
     ]
    }
   ],
   "source": [
    "x=\"hello\"\n",
    "y=\"abc\"\n",
    "z=3\n",
    "print(x+y)\n",
    "print(x*z)# multi plication  ma ek integer hovo joi biju kia nai chale\n"
   ]
  },
  {
   "cell_type": "code",
   "execution_count": 44,
   "metadata": {},
   "outputs": [
    {
     "name": "stdout",
     "output_type": "stream",
     "text": [
      "enter 1rahul\n",
      "enter 2rahulq\n",
      "rahulq is grater\n"
     ]
    }
   ],
   "source": [
    "# \n",
    "s1=str(input(\"enter 1\"))\n",
    "s2=str(input(\"enter 2\"))\n",
    "if (s1==s2):\n",
    "    print (\"both same\")\n",
    "elif(s1>s2):\n",
    "    print(s1,\" is grater\")\n",
    "else:\n",
    "    print(s2,\"is grater\")"
   ]
  },
  {
   "cell_type": "code",
   "execution_count": 46,
   "metadata": {},
   "outputs": [
    {
     "name": "stdout",
     "output_type": "stream",
     "text": [
      "ROHIT SHARMA IS BEST ODI PLAYER\n",
      "rohit sharma is best odi player\n",
      "ROHIT SHARMA IS BEST odi PLAYER\n",
      "Rohit Sharma Is Best Odi Player\n",
      "Rohit sharma is best odi player\n"
     ]
    }
   ],
   "source": [
    "s=\"rohit sharma is best ODI player\"\n",
    "print(s.upper())\n",
    "print(s.lower())\n",
    "print(s.swapcase())\n",
    "print(s.title())\n",
    "print(s.capitalize())"
   ]
  },
  {
   "cell_type": "code",
   "execution_count": 52,
   "metadata": {},
   "outputs": [
    {
     "name": "stdout",
     "output_type": "stream",
     "text": [
      "enter string : rahul\n",
      "RahuL\n"
     ]
    }
   ],
   "source": [
    "# wpp to capitalize first and last latter of string and convert middle qustion into lowercase of given string\n",
    "s=\"rohit sharma is best ODI player\"\n",
    "s1=str(input(\"enter string : \"))\n",
    "s1[1:-1]\n",
    "print(s1[0].upper()+ s1[1:-1].lower()+s1[-1].upper())\n"
   ]
  },
  {
   "cell_type": "code",
   "execution_count": 70,
   "metadata": {},
   "outputs": [
    {
     "name": "stdout",
     "output_type": "stream",
     "text": [
      "31\n",
      "technologiy\n",
      "echnologiya\n"
     ]
    }
   ],
   "source": [
    "x=\"technologiya\"\n",
    "print (len(s))\n",
    "print(x.rstrip('a'))\n",
    "print(x.strip('t'))"
   ]
  },
  {
   "cell_type": "code",
   "execution_count": 65,
   "metadata": {},
   "outputs": [
    {
     "name": "stdout",
     "output_type": "stream",
     "text": [
      "enter string=  rahul\n",
      "rhl\n"
     ]
    }
   ],
   "source": [
    "#wpp to print  combination of first ,midel and last character of string\n",
    "x=str(input(\"enter string=  \"))\n",
    "print(x[0]+x[len(x)//2]+x[-1])"
   ]
  },
  {
   "cell_type": "code",
   "execution_count": 73,
   "metadata": {},
   "outputs": [
    {
     "name": "stdout",
     "output_type": "stream",
     "text": [
      "enter string=  rahul\n",
      "ahu\n"
     ]
    }
   ],
   "source": [
    "#wwp  to print middel three character of any string\n",
    "x=input(\"enter string=  \")\n",
    "print(x[len(x)//2-1]+x[len(x)//2]+x[len(x)//2+1])"
   ]
  },
  {
   "cell_type": "code",
   "execution_count": 81,
   "metadata": {},
   "outputs": [
    {
     "name": "stdout",
     "output_type": "stream",
     "text": [
      "enter string=  rashull\n",
      "RAShull\n"
     ]
    }
   ],
   "source": [
    "#wwp to convert first half of the string into upper case and secon half into lowercase\n",
    "x=input(\"enter string=  \")\n",
    "z=x[0:len(x)//2]\n",
    "c=x[len(x)//2:]\n",
    "print(z.upper()+c.lower())\n"
   ]
  },
  {
   "cell_type": "code",
   "execution_count": null,
   "metadata": {},
   "outputs": [],
   "source": []
  }
 ],
 "metadata": {
  "kernelspec": {
   "display_name": "Python 3",
   "language": "python",
   "name": "python3"
  },
  "language_info": {
   "codemirror_mode": {
    "name": "ipython",
    "version": 3
   },
   "file_extension": ".py",
   "mimetype": "text/x-python",
   "name": "python",
   "nbconvert_exporter": "python",
   "pygments_lexer": "ipython3",
   "version": "3.8.5"
  }
 },
 "nbformat": 4,
 "nbformat_minor": 4
}
