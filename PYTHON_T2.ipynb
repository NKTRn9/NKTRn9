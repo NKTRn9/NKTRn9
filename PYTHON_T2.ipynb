{
 "cells": [
  {
   "cell_type": "code",
   "execution_count": 8,
   "metadata": {},
   "outputs": [
    {
     "name": "stdout",
     "output_type": "stream",
     "text": [
      "o\n",
      "c\n"
     ]
    }
   ],
   "source": [
    "x=\"welcome\"\n",
    "print(x[4])\n",
    "print(x[-4])"
   ]
  },
  {
   "cell_type": "code",
   "execution_count": 12,
   "metadata": {},
   "outputs": [
    {
     "name": "stdout",
     "output_type": "stream",
     "text": [
      "ec\n"
     ]
    }
   ],
   "source": [
    "s=\"welcome\" # s[begin:end:step] jya step jovu\n",
    "print(s[1:4:2])"
   ]
  },
  {
   "cell_type": "code",
   "execution_count": 18,
   "metadata": {},
   "outputs": [
    {
     "name": "stdout",
     "output_type": "stream",
     "text": [
      "earnin\n",
      "arn\n",
      "ysae yrev si nohtyp \n",
      "eri\n",
      "earning python is very easy\n",
      "learni\n"
     ]
    }
   ],
   "source": [
    "s=\"learning python is very easy\"\n",
    "print(s[1:7:1])\n",
    "print(s[2:5])\n",
    "print(s[-1:7:-1])\n",
    "print(s[1:7:2])\n",
    "print(s[1:])\n",
    "print(s[:6])\n"
   ]
  },
  {
   "cell_type": "code",
   "execution_count": 39,
   "metadata": {},
   "outputs": [
    {
     "name": "stdout",
     "output_type": "stream",
     "text": [
      "learning python is very easy\n",
      "learning python is very easy\n",
      "ysae yrev si nohtyp gninrael\n",
      "python\n",
      "python\n",
      "python\n",
      "python\n",
      "gninr\n",
      "gninr\n",
      "gninr\n"
     ]
    }
   ],
   "source": [
    "s=\"learning python is very easy\"\n",
    "print(s[::])\n",
    "print(s[:])\n",
    "print(s[::-1])   # right to left print thse je palindrome na programme mate easy che\n",
    "print(s[9:15])\n",
    "print(s[-19:-13])\n",
    "print(s[9:-13])\n",
    "print(s[-19:15])\n",
    "print(s[7:-26:-1])\n",
    "print(s[-21:-26:-1])\n",
    "print(s[7:2:-1])"
   ]
  },
  {
   "cell_type": "code",
   "execution_count": 41,
   "metadata": {},
   "outputs": [
    {
     "name": "stdout",
     "output_type": "stream",
     "text": [
      "helloabc\n",
      "hellohellohello\n"
     ]
    }
   ],
   "source": [
    "x=\"hello\"\n",
    "y=\"abc\"\n",
    "z=3\n",
    "print(x+y)\n",
    "print(x*z)# multi plication  ma ek integer hovo joi biju kia nai chale\n"
   ]
  },
  {
   "cell_type": "code",
   "execution_count": 44,
   "metadata": {},
   "outputs": [
    {
     "name": "stdout",
     "output_type": "stream",
     "text": [
      "enter 1rahul\n",
      "enter 2rahulq\n",
      "rahulq is grater\n"
     ]
    }
   ],
   "source": [
    "# \n",
    "s1=str(input(\"enter 1\"))\n",
    "s2=str(input(\"enter 2\"))\n",
    "if (s1==s2):\n",
    "    print (\"both same\")\n",
    "elif(s1>s2):\n",
    "    print(s1,\" is grater\")\n",
    "else:\n",
    "    print(s2,\"is grater\")"
   ]
  },
  {
   "cell_type": "code",
   "execution_count": 46,
   "metadata": {},
   "outputs": [
    {
     "name": "stdout",
     "output_type": "stream",
     "text": [
      "ROHIT SHARMA IS BEST ODI PLAYER\n",
      "rohit sharma is best odi player\n",
      "ROHIT SHARMA IS BEST odi PLAYER\n",
      "Rohit Sharma Is Best Odi Player\n",
      "Rohit sharma is best odi player\n"
     ]
    }
   ],
   "source": [
    "s=\"rohit sharma is best ODI player\"\n",
    "print(s.upper())\n",
    "print(s.lower())\n",
    "print(s.swapcase())\n",
    "print(s.title())\n",
    "print(s.capitalize())"
   ]
  },
  {
   "cell_type": "code",
   "execution_count": 52,
   "metadata": {},
   "outputs": [
    {
     "name": "stdout",
     "output_type": "stream",
     "text": [
      "enter string : rahul\n",
      "RahuL\n"
     ]
    }
   ],
   "source": [
    "# wpp to capitalize first and last latter of string and convert middle qustion into lowercase of given string\n",
    "s=\"rohit sharma is best ODI player\"\n",
    "s1=str(input(\"enter string : \"))\n",
    "s1[1:-1]\n",
    "print(s1[0].upper()+ s1[1:-1].lower()+s1[-1].upper())\n"
   ]
  },
  {
   "cell_type": "code",
   "execution_count": 70,
   "metadata": {},
   "outputs": [
    {
     "name": "stdout",
     "output_type": "stream",
     "text": [
      "31\n",
      "technologiy\n",
      "echnologiya\n"
     ]
    }
   ],
   "source": [
    "x=\"technologiya\"\n",
    "print (len(s))\n",
    "print(x.rstrip('a'))\n",
    "print(x.strip('t'))"
   ]
  },
  {
   "cell_type": "code",
   "execution_count": 65,
   "metadata": {},
   "outputs": [
    {
     "name": "stdout",
     "output_type": "stream",
     "text": [
      "enter string=  rahul\n",
      "rhl\n"
     ]
    }
   ],
   "source": [
    "#wpp to print  combination of first ,midel and last character of string\n",
    "x=str(input(\"enter string=  \"))\n",
    "print(x[0]+x[len(x)//2]+x[-1])"
   ]
  },
  {
   "cell_type": "code",
   "execution_count": 73,
   "metadata": {},
   "outputs": [
    {
     "name": "stdout",
     "output_type": "stream",
     "text": [
      "enter string=  rahul\n",
      "ahu\n"
     ]
    }
   ],
   "source": [
    "#wwp  to print middel three character of any string\n",
    "x=input(\"enter string=  \")\n",
    "print(x[len(x)//2-1]+x[len(x)//2]+x[len(x)//2+1])"
   ]
  },
  {
   "cell_type": "code",
   "execution_count": 81,
   "metadata": {},
   "outputs": [
    {
     "name": "stdout",
     "output_type": "stream",
     "text": [
      "enter string=  rashull\n",
      "RAShull\n"
     ]
    }
   ],
   "source": [
    "#wwp to convert first half of the string into upper case and secon half into lowercase\n",
    "x=input(\"enter string=  \")\n",
    "z=x[0:len(x)//2]\n",
    "c=x[len(x)//2:]\n",
    "print(z.upper()+c.lower())\n"
   ]
  },
  {
   "cell_type": "code",
   "execution_count": 15,
   "metadata": {},
   "outputs": [
    {
     "name": "stdout",
     "output_type": "stream",
     "text": [
      "Abc-xyz-pqr\n",
      "rahul salary is 78000 and his age is 18 \n",
      "False\n",
      "False\n",
      "False\n",
      "False\n",
      "False\n",
      "False\n",
      "False\n",
      "False\n",
      "<built-in method isspace of str object at 0x000001E3D30910F0>\n"
     ]
    }
   ],
   "source": [
    "# new topic:- joining of string\n",
    "t=(\"Abc\",\"xyz\",\"pqr\")\n",
    "x=\"-\".join(t)\n",
    "print(x)\n",
    "\n",
    "\n",
    "# formating of string\n",
    "name=\"rahul\"\n",
    "age=18\n",
    "salary=78000\n",
    "print(\"{} salary is {} and his age is {} \".format(name,salary,age))\n",
    "\n",
    "\n",
    "#to check type of chracter presant in a string\n",
    "\n",
    "#1.isalnum()  ->\n",
    "s=\"Comp an\"\n",
    "print(s.isalnum())\n",
    "\n",
    "#2.isalpha()  ->\n",
    "print(s.isalpha())\n",
    "\n",
    "#3. isdigit()  -> badha numeric hoy to true return kare\n",
    "print(s.isdigit())\n",
    "\n",
    "#4.islower()   ->badha character lower hoy to true aape\n",
    "print(s.islower())\n",
    "\n",
    "#5.isupper()   ->\n",
    "print(s.isupper())\n",
    "\n",
    "#6.istitle()   ->\n",
    "print(s.istitle())\n",
    "\n",
    "#7.isidentifier()  ->reseverd word identifier kahi sakay\n",
    "print(s.isidentifier())\n",
    "\n",
    "#8.isnumeric()\n",
    "print(s.isnumeric())\n",
    "\n",
    "#9.isspace()   ->\n",
    "print(s.isspace)"
   ]
  },
  {
   "cell_type": "code",
   "execution_count": 26,
   "metadata": {},
   "outputs": [
    {
     "name": "stdout",
     "output_type": "stream",
     "text": [
      "3\n",
      "-1\n",
      "21\n",
      "2\n",
      "1\n",
      "learning python is very difficulty\n",
      "['learning', 'python', 'is', 'very', 'easy']\n",
      "['21', '08', '2025']\n"
     ]
    }
   ],
   "source": [
    "# find function\n",
    "#return idex number of first occurens of the given string.\n",
    "#if it is not availabale then we will get -1.\n",
    "s=\"learning python is very easy\"\n",
    "print(s.find(\"r\"))\n",
    "print(s.find(\"z\"))\n",
    "print(s.find(\"r\",7,24))\n",
    "\n",
    "# count() ->\n",
    "s=\"abcdabcd\"\n",
    "print(s.count('a'))  # a jetali var aave enu count aapi dese\n",
    "print(s.count('a',3,8))\n",
    "\n",
    "\n",
    "#replace function\n",
    "# to replace  old string  with new string\n",
    "s=\"learning python is very easy\"\n",
    "s1=s.replace(\"easy\",\"difficulty\")\n",
    "print(s1)\n",
    "\n",
    "#split function\n",
    "#ans always list format ma return kare default space thi return kare che\n",
    "print(s.split())\n",
    "d=\"21-08-2025\"\n",
    "s=d.split(\"-\")\n",
    "print(s)"
   ]
  },
  {
   "cell_type": "code",
   "execution_count": 2,
   "metadata": {},
   "outputs": [
    {
     "name": "stdout",
     "output_type": "stream",
     "text": [
      "enter stringrahar\n",
      "string  is palindrome\n"
     ]
    }
   ],
   "source": [
    "#w a python fun plindrome to chek enterd string by user is palindrm or not\n",
    "u=str(input(\"enter string\"))\n",
    "rev=u\n",
    "if u==u[::-1]:\n",
    "    print(\"  is palindrome\")\n",
    "else:\n",
    "    print(\"string  is not palindrome\")\n",
    "\n"
   ]
  },
  {
   "cell_type": "code",
   "execution_count": null,
   "metadata": {},
   "outputs": [],
   "source": [
    "    \n",
    "#w p to find leangth of given string without using leangth function\n",
    "s=str(input(\"enter string= \"))\n",
    "count=0\n",
    "for i in s:\n",
    "    count+=1\n",
    "print(count)    "
   ]
  },
  {
   "cell_type": "code",
   "execution_count": 7,
   "metadata": {},
   "outputs": [
    {
     "name": "stdout",
     "output_type": "stream",
     "text": [
      "enter index number= 5\n",
      "learn is very easy\n"
     ]
    }
   ],
   "source": [
    "#w p p to remove ith character form given string where i=index number taken from user\n",
    "i=int(input(\"enter index number= \"))\n",
    "s=\"learnb is very easy\"\n",
    "print(s.replace(s[i],\"\"))\n"
   ]
  },
  {
   "cell_type": "code",
   "execution_count": 9,
   "metadata": {},
   "outputs": [
    {
     "name": "stdout",
     "output_type": "stream",
     "text": [
      "LeasninG PythoN IS VerY EasY \n"
     ]
    }
   ],
   "source": [
    "# wpp to capitalize first and last character of each word of the given string .\n",
    "s=\"leasning python is very easy\"\n",
    "s2=\"\"\n",
    "s1=s.split()\n",
    "for i in s1:\n",
    "    if len(i)==1:\n",
    "            s2=s2+i[0].upper()+\" \"\n",
    "    else:\n",
    "            s2=s2+(i[0].upper()+i[1:-1]+i[-1].upper())+\" \"\n",
    "print(s2)    \n",
    "    "
   ]
  },
  {
   "cell_type": "code",
   "execution_count": 11,
   "metadata": {},
   "outputs": [
    {
     "name": "stdout",
     "output_type": "stream",
     "text": [
      "LEASNING PYTHON  ghjghghkgk IS VERY EASY\n"
     ]
    }
   ],
   "source": [
    "#wpp to inverted case of given string without using swapcase function.\n",
    "s=\"leasning python  GHJGHGHKGK is very easy\"\n",
    "s1=\"\"\n",
    "for i in s:\n",
    "    if i.islower():\n",
    "        s1=s1+i.upper()\n",
    "    elif i.isupper():\n",
    "        s1=s1+i.lower()\n",
    "    else:\n",
    "        s1=s1+i\n",
    "print(s1)        \n",
    "\n"
   ]
  },
  {
   "cell_type": "code",
   "execution_count": 14,
   "metadata": {},
   "outputs": [
    {
     "name": "stdout",
     "output_type": "stream",
     "text": [
      "3\n",
      "6\n",
      "3\n"
     ]
    }
   ],
   "source": [
    "#wpp to calculate nu. of alphabet,digits and spacial symbol in given string\n",
    "s=\"Py23@ve5#ab$\"\n",
    "countd=0\n",
    "counta=0\n",
    "counts=0\n",
    "for i in s:\n",
    "    if i.isalpha():\n",
    "        counta+=1\n",
    "    elif i.isdigit():\n",
    "        countd+=1\n",
    "    else:\n",
    "        counts+=1\n",
    "print(countd)\n",
    "print(counta)\n",
    "print(counts)\n"
   ]
  },
  {
   "cell_type": "code",
   "execution_count": 16,
   "metadata": {},
   "outputs": [
    {
     "name": "stdout",
     "output_type": "stream",
     "text": [
      "37\n",
      "6.166666666666667\n"
     ]
    }
   ],
   "source": [
    "#wpp to calculate sum and avg of digit prasent in string  \n",
    "s=\"PQR45#9568Abc\"\n",
    "sum=0\n",
    "avg=0\n",
    "count=0\n",
    "for i in s:\n",
    "     if i.isdigit():\n",
    "        a=int(i)\n",
    "        sum+=a\n",
    "        count+=1\n",
    "avg=sum/count\n",
    "print(sum)\n",
    "print(avg)"
   ]
  },
  {
   "cell_type": "code",
   "execution_count": 18,
   "metadata": {},
   "outputs": [
    {
     "name": "stdout",
     "output_type": "stream",
     "text": [
      "sharma is best player "
     ]
    }
   ],
   "source": [
    "#wpp to print only even leangth word from the given string\n",
    "\n",
    "s=\"Rohit sharma is best odi player\"\n",
    "s1=s.split()\n",
    "for i in s1:\n",
    "    if(len(i)%2==0):\n",
    "        print(i,end=\" \")"
   ]
  },
  {
   "cell_type": "code",
   "execution_count": 19,
   "metadata": {},
   "outputs": [
    {
     "ename": "SyntaxError",
     "evalue": "unexpected EOF while parsing (<ipython-input-19-053ddd30c0f9>, line 7)",
     "output_type": "error",
     "traceback": [
      "\u001b[1;36m  File \u001b[1;32m\"<ipython-input-19-053ddd30c0f9>\"\u001b[1;36m, line \u001b[1;32m7\u001b[0m\n\u001b[1;33m    \u001b[0m\n\u001b[1;37m    ^\u001b[0m\n\u001b[1;31mSyntaxError\u001b[0m\u001b[1;31m:\u001b[0m unexpected EOF while parsing\n"
     ]
    }
   ],
   "source": [
    "#wpp to check to string are blanced or not string s1 and s2 are blance if all the\n",
    "#character of s1 prasent in s2 character position dosent matter\n",
    "s1=\"helo good morning\"\n",
    "s2=\"eholl good gninrom\"\n",
    "for i in s1:\n",
    "    for j in s2:\n",
    "                   \n"
   ]
  },
  {
   "cell_type": "code",
   "execution_count": null,
   "metadata": {},
   "outputs": [],
   "source": []
  }
 ],
 "metadata": {
  "kernelspec": {
   "display_name": "Python 3",
   "language": "python",
   "name": "python3"
  },
  "language_info": {
   "codemirror_mode": {
    "name": "ipython",
    "version": 3
   },
   "file_extension": ".py",
   "mimetype": "text/x-python",
   "name": "python",
   "nbconvert_exporter": "python",
   "pygments_lexer": "ipython3",
   "version": "3.8.5"
  }
 },
 "nbformat": 4,
 "nbformat_minor": 4
}
