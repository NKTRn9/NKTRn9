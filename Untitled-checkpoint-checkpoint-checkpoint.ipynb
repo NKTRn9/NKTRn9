{
 "cells": [
  {
   "cell_type": "code",
   "execution_count": 5,
   "metadata": {},
   "outputs": [
    {
     "name": "stdout",
     "output_type": "stream",
     "text": [
      "0.3333333333333333\n"
     ]
    }
   ],
   "source": [
    "a=19+(5/2)+4%2-6*3\n",
    "b=1/3\n",
    "c=2+3//2%2**2/3-6\n",
    "print(b)"
   ]
  },
  {
   "cell_type": "code",
   "execution_count": 9,
   "metadata": {},
   "outputs": [
    {
     "name": "stdout",
     "output_type": "stream",
     "text": [
      "enter x:6\n",
      "well\n"
     ]
    }
   ],
   "source": [
    "x=int(input(\"enter x:\"))\n",
    "if x==5:\n",
    "    print(\"heklo\")\n",
    "print(\"well\")"
   ]
  },
  {
   "cell_type": "code",
   "execution_count": null,
   "metadata": {},
   "outputs": [],
   "source": [
    "x=int(input(\"enter x:\"))\n",
    "if x>5:\n",
    "    print(\"heklo\")\n",
    "else :\n",
    "    print(\"mornni\")\n",
    "print(\"well\")"
   ]
  },
  {
   "cell_type": "code",
   "execution_count": 1,
   "metadata": {},
   "outputs": [
    {
     "name": "stdout",
     "output_type": "stream",
     "text": [
      "enter marks:5\n",
      "enter proper no.\n"
     ]
    }
   ],
   "source": [
    "x=int(input(\"enter marks:\"))\n",
    "if (x>=80 and x<=100):\n",
    "   print(\"distinct\")\n",
    "elif (x>=60 and x<=79):\n",
    "   print(\"first class\")\n",
    "elif 35>=x>60:\n",
    "   print(\"second class\")\n",
    "elif 0>=x>35:\n",
    "   print(\"better luck next\")\n",
    "else:\n",
    "   print(\"enter proper no.\")\n"
   ]
  },
  {
   "cell_type": "code",
   "execution_count": null,
   "metadata": {},
   "outputs": [],
   "source": [
    "#write a python program to check enterd no. is >20 or not if >20 then check enterd no. is >40 or not\n",
    "x=int(input(\"enter marks:\"))\n",
    "if (x>20):\n",
    "    print(\"x is g>20\")\n",
    "    if(x>40):\n",
    "        print(\"x is>40\")\n",
    "    else:\n",
    "        print(\"less then 40\")\n",
    "else:\n",
    "     print(\"less then 20\")"
   ]
  },
  {
   "cell_type": "code",
   "execution_count": 1,
   "metadata": {},
   "outputs": [
    {
     "name": "stdout",
     "output_type": "stream",
     "text": [
      "0\n",
      "1\n",
      "2\n",
      "3\n",
      "4\n"
     ]
    }
   ],
   "source": [
    "for i in range (5):\n",
    "    print(i)"
   ]
  },
  {
   "cell_type": "code",
   "execution_count": 3,
   "metadata": {},
   "outputs": [],
   "source": [
    "for i in range(1,5,-1):\n",
    "    print(i)"
   ]
  },
  {
   "cell_type": "code",
   "execution_count": 4,
   "metadata": {},
   "outputs": [
    {
     "name": "stdout",
     "output_type": "stream",
     "text": [
      "l\n",
      "j\n",
      "i\n",
      "e\n",
      "t\n"
     ]
    }
   ],
   "source": [
    "x=\"ljiet\"\n",
    "for i in x:\n",
    "    print(i)"
   ]
  },
  {
   "cell_type": "code",
   "execution_count": 5,
   "metadata": {},
   "outputs": [
    {
     "name": "stdout",
     "output_type": "stream",
     "text": [
      "1\n",
      "2\n",
      "3\n",
      "4\n",
      "5\n"
     ]
    }
   ],
   "source": [
    "x=1\n",
    "while x<=5:\n",
    "    print(x)\n",
    "    x+=1"
   ]
  },
  {
   "cell_type": "code",
   "execution_count": 12,
   "metadata": {},
   "outputs": [
    {
     "name": "stdout",
     "output_type": "stream",
     "text": [
      "enter name:ghjmk,\n",
      "enter name:tghjk\n",
      "enter name:python\n"
     ]
    }
   ],
   "source": [
    "b=True\n",
    "while b:\n",
    "    name=input(\"enter name:\")\n",
    "    if name==\"python\":\n",
    "        b=False\n",
    "    else:\n",
    "        b=True"
   ]
  },
  {
   "cell_type": "code",
   "execution_count": 13,
   "metadata": {},
   "outputs": [
    {
     "name": "stdout",
     "output_type": "stream",
     "text": [
      "3\n",
      "2\n",
      "1\n",
      "0\n",
      "-1\n",
      "-2\n",
      "-3\n"
     ]
    }
   ],
   "source": [
    "x=3\n",
    "while x>=-3:\n",
    "    print(x)\n",
    "    x-=1"
   ]
  },
  {
   "cell_type": "code",
   "execution_count": 15,
   "metadata": {},
   "outputs": [
    {
     "name": "stdout",
     "output_type": "stream",
     "text": [
      "i= 0 j= 0\n",
      "i= 0 j= 1\n",
      "i= 0 j= 2\n",
      "i= 1 j= 0\n",
      "i= 1 j= 1\n",
      "i= 1 j= 2\n"
     ]
    }
   ],
   "source": [
    "for i in range (2):\n",
    "    for j in range(3):\n",
    "        print(\"i=\",i,\"j=\",j)"
   ]
  },
  {
   "cell_type": "code",
   "execution_count": 18,
   "metadata": {},
   "outputs": [
    {
     "name": "stdout",
     "output_type": "stream",
     "text": [
      "1\n",
      "2\n",
      "3\n",
      "4\n",
      "5\n",
      "6\n"
     ]
    }
   ],
   "source": [
    "for i in range(1,11):\n",
    "    if (i==7):\n",
    "        break\n",
    "    print(i)\n"
   ]
  },
  {
   "cell_type": "code",
   "execution_count": 27,
   "metadata": {},
   "outputs": [
    {
     "name": "stdout",
     "output_type": "stream",
     "text": [
      "2\n"
     ]
    }
   ],
   "source": [
    "x=1\n",
    "while x<=11:\n",
    "        x+=1\n",
    "        if(i==7):\n",
    "            print(x)\n",
    "            break\n"
   ]
  },
  {
   "cell_type": "code",
   "execution_count": 30,
   "metadata": {},
   "outputs": [
    {
     "name": "stdout",
     "output_type": "stream",
     "text": [
      "1\n",
      "2\n",
      "4\n",
      "5\n",
      "6\n",
      "8\n",
      "9\n"
     ]
    }
   ],
   "source": [
    "for i in range(1,10):\n",
    "    if(i==3 or i==7):\n",
    "        continue\n",
    "    print(i)\n",
    "    "
   ]
  },
  {
   "cell_type": "code",
   "execution_count": 5,
   "metadata": {},
   "outputs": [
    {
     "name": "stdout",
     "output_type": "stream",
     "text": [
      "1\n",
      "2\n",
      "4\n",
      "5\n",
      "6\n",
      "8\n",
      "9\n",
      "10\n",
      "11\n"
     ]
    }
   ],
   "source": [
    "i=1\n",
    "while i<=11:\n",
    "     if(i==3 or i==7):\n",
    "            i+=1\n",
    "            continue\n",
    "     print(i)\n",
    "     i+=1\n"
   ]
  },
  {
   "cell_type": "code",
   "execution_count": 9,
   "metadata": {},
   "outputs": [
    {
     "name": "stdout",
     "output_type": "stream",
     "text": [
      "9\n",
      "18\n"
     ]
    }
   ],
   "source": [
    "for i in range(1,20):\n",
    "    if(i%9==0):\n",
    "        print(i)\n",
    "    else:\n",
    "        pass"
   ]
  },
  {
   "cell_type": "code",
   "execution_count": 12,
   "metadata": {},
   "outputs": [
    {
     "name": "stdout",
     "output_type": "stream",
     "text": [
      "1\n",
      "2\n"
     ]
    }
   ],
   "source": [
    "for i in range (1,4):\n",
    "    print(i)\n",
    "    if (i==2):\n",
    "        break\n",
    "else:\n",
    "        print(\"hnjb\")\n"
   ]
  },
  {
   "cell_type": "code",
   "execution_count": 16,
   "metadata": {},
   "outputs": [
    {
     "name": "stdout",
     "output_type": "stream",
     "text": [
      "1\n"
     ]
    }
   ],
   "source": [
    "x=1\n",
    "while x<=4:\n",
    "    print(x)\n",
    "    if i==2:\n",
    "        break\n",
    "else:\n",
    "    print(\"dfghj\")"
   ]
  },
  {
   "cell_type": "code",
   "execution_count": 1,
   "metadata": {},
   "outputs": [
    {
     "name": "stdout",
     "output_type": "stream",
     "text": [
      "enter no.=4\n",
      "24\n"
     ]
    }
   ],
   "source": [
    "n=int(input(\"enter no.=\"))\n",
    "fact=1\n",
    "if n<0:\n",
    "    print(\"invalid no.\")\n",
    "elif n==0:\n",
    "    print(fact)\n",
    "else:\n",
    "    for i in range(1,n+1):\n",
    "        fact=fact*i\n",
    "print(fact)        "
   ]
  },
  {
   "cell_type": "code",
   "execution_count": 10,
   "metadata": {},
   "outputs": [
    {
     "name": "stdout",
     "output_type": "stream",
     "text": [
      "enter no.=7\n",
      "0 1 1 2 3 5 8 "
     ]
    }
   ],
   "source": [
    "n=int(input(\"enter no.=\"))\n",
    "n1,n2=0,1\n",
    "count=0\n",
    "if n<0:\n",
    "    print(\"invalid\")\n",
    "elif n==1:\n",
    "    print(n1)\n",
    "else:\n",
    "    while count<n:\n",
    "        print(n1,end=\" \")\n",
    "        n3=n1+n2\n",
    "        n1=n2\n",
    "        n2=n3\n",
    "        count+=1"
   ]
  },
  {
   "cell_type": "code",
   "execution_count": 18,
   "metadata": {},
   "outputs": [
    {
     "name": "stdout",
     "output_type": "stream",
     "text": [
      "enter no.=153\n",
      "length= 3\n",
      "no armstrong\n"
     ]
    }
   ],
   "source": [
    "n=int(input(\"enter no.=\"))\n",
    "temp=n\n",
    "temp1=n\n",
    "sum1=0\n",
    "count=0\n",
    "while n!=0:\n",
    "    count+=1\n",
    "    n=n//10\n",
    "print(\"length=\",count)\n",
    "while temp!=0:\n",
    "    r=temp%10\n",
    "    sum1=sum1+(r**count)\n",
    "    temp=temp//10\n",
    "if sum==temp1:\n",
    "        print(\"armston\")\n",
    "else:\n",
    "        print(\"no armstrong\")\n",
    "\n"
   ]
  },
  {
   "cell_type": "code",
   "execution_count": 16,
   "metadata": {},
   "outputs": [
    {
     "name": "stdout",
     "output_type": "stream",
     "text": [
      "enter no.=89\n",
      "length= 2\n",
      "not disarium\n"
     ]
    }
   ],
   "source": [
    "n=int(input(\"enter no.=\"))\n",
    "temp=n\n",
    "temp1=n\n",
    "sum1=0\n",
    "count=0\n",
    "while n!=0:\n",
    "    count+=1\n",
    "    n=n//10\n",
    "print(\"length=\",count)\n",
    "while temp!=0:\n",
    "    r=temp%10\n",
    "    sum1=sum1+(r**count)\n",
    "    count=count-1\n",
    "    temp=temp//10\n",
    "    \n",
    "if sum==temp1:\n",
    "    print(\"disarium\")\n",
    "else:\n",
    "    print(\"not disarium\")\n",
    "    "
   ]
  },
  {
   "cell_type": "code",
   "execution_count": 20,
   "metadata": {},
   "outputs": [
    {
     "name": "stdout",
     "output_type": "stream",
     "text": [
      "enter days.=30\n",
      "165\n"
     ]
    }
   ],
   "source": [
    "day=int(input(\"enter days.=\"))\n",
    "sum=0\n",
    "mon=1\n",
    "sun=7\n",
    "w=day//7\n",
    "for i in range(w):\n",
    "    for j in range (mon,sun+1):\n",
    "        sum=sum+j\n",
    "    mon=mon+1\n",
    "    sun=sun+1\n",
    "for k in range (day%7):\n",
    "    sum=sum+mon\n",
    "    mon=mon+1\n",
    "print(sum)    \n",
    "\n"
   ]
  },
  {
   "cell_type": "code",
   "execution_count": 24,
   "metadata": {},
   "outputs": [
    {
     "name": "stdout",
     "output_type": "stream",
     "text": [
      "enter no.=145\n",
      "strong no\n"
     ]
    }
   ],
   "source": [
    "no=int(input(\"enter no.=\"))\n",
    "no1=no\n",
    "sum=0\n",
    "while no1!=0:\n",
    "    fact=1\n",
    "    temp=no1%10\n",
    "    for i in range(1,temp+1):\n",
    "        fact*=i\n",
    "    sum+=fact\n",
    "    no1 //=10\n",
    "if no == sum:\n",
    "    print(\"strong no\")\n",
    "else:\n",
    "    print(\"not\")"
   ]
  },
  {
   "cell_type": "code",
   "execution_count": null,
   "metadata": {},
   "outputs": [],
   "source": []
  }
 ],
 "metadata": {
  "kernelspec": {
   "display_name": "Python 3",
   "language": "python",
   "name": "python3"
  },
  "language_info": {
   "codemirror_mode": {
    "name": "ipython",
    "version": 3
   },
   "file_extension": ".py",
   "mimetype": "text/x-python",
   "name": "python",
   "nbconvert_exporter": "python",
   "pygments_lexer": "ipython3",
   "version": "3.8.5"
  }
 },
 "nbformat": 4,
 "nbformat_minor": 4
}
